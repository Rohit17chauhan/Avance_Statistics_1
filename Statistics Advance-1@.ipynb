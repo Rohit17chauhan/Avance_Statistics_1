{
 "cells": [
  {
   "cell_type": "markdown",
   "id": "32be95d3",
   "metadata": {},
   "source": [
    "Q1. What is the Probability density function?"
   ]
  },
  {
   "cell_type": "code",
   "execution_count": 1,
   "id": "4720e6b6",
   "metadata": {},
   "outputs": [
    {
     "data": {
      "text/plain": [
       "'The probability density function (PDF) is a concept used in probability theory and statistics to describe  \\na continuous random variable taking on a particular value. For a continuous random variable X \\nthe PDF denoted as f(x) is a function that specifies the relative likelihood of X being near a certain value\\n\\n The PDF describes the distribution of probabilities for a continuous random variable, indicating how likely different\\n values of the variable are.'"
      ]
     },
     "execution_count": 1,
     "metadata": {},
     "output_type": "execute_result"
    }
   ],
   "source": [
    "Ans1=\"\"\"The probability density function (PDF) is a concept used in probability theory and statistics to describe  \n",
    "a continuous random variable taking on a particular value. For a continuous random variable X \n",
    "the PDF denoted as f(x) is a function that specifies the relative likelihood of X being near a certain value\n",
    "\n",
    " The PDF describes the distribution of probabilities for a continuous random variable, indicating how likely different\n",
    " values of the variable are.\"\"\"\n",
    "Ans1"
   ]
  },
  {
   "cell_type": "markdown",
   "id": "74f4dfcb",
   "metadata": {},
   "source": [
    "Q2. What are the types of Probability distribution?"
   ]
  },
  {
   "cell_type": "code",
   "execution_count": 2,
   "id": "32420eae",
   "metadata": {},
   "outputs": [
    {
     "data": {
      "text/plain": [
       "'Two type of probability distribution\\n1-Discrete Probability Distribution,\\n2-Continuous Probability Distribution'"
      ]
     },
     "execution_count": 2,
     "metadata": {},
     "output_type": "execute_result"
    }
   ],
   "source": [
    "Ans2=\"\"\"Two type of probability distribution\n",
    "1-Discrete Probability Distribution,\n",
    "2-Continuous Probability Distribution\"\"\"\n",
    "Ans2"
   ]
  },
  {
   "cell_type": "markdown",
   "id": "c200fe19",
   "metadata": {},
   "source": [
    "Q3. Write a Python function to calculate the probability density function of a normal distribution with\n",
    "given mean and standard deviation at a given point."
   ]
  },
  {
   "cell_type": "code",
   "execution_count": 3,
   "id": "7641cf1d",
   "metadata": {},
   "outputs": [
    {
     "name": "stdout",
     "output_type": "stream",
     "text": [
      "5.5\n",
      "2.8722813232690143\n"
     ]
    }
   ],
   "source": [
    "import numpy as np \n",
    "import pandas as pd\n",
    "data=[1,2,3,4,5,6,7,8,9,10]\n",
    "mean=np.mean(data)\n",
    "standard_deviation=np.std(data)\n",
    "print(mean)\n",
    "print(standard_deviation)"
   ]
  },
  {
   "cell_type": "markdown",
   "id": "2ef8a6e7",
   "metadata": {},
   "source": [
    "Q4. What are the properties of Binomial distribution? Give two examples of events where binomial\n",
    "distribution can be applied."
   ]
  },
  {
   "cell_type": "code",
   "execution_count": 4,
   "id": "948c0a06",
   "metadata": {},
   "outputs": [
    {
     "data": {
      "text/plain": [
       "'properties\\n1-Fixed Number of Trials\\n2-Independent Trials\\n3-Binary Outcomes\\n\\nExample-\\n1-Tossing a coin\\n2-Manufacturing Quality Control\\n'"
      ]
     },
     "execution_count": 4,
     "metadata": {},
     "output_type": "execute_result"
    }
   ],
   "source": [
    "Ans4=\"\"\"properties\n",
    "1-Fixed Number of Trials\n",
    "2-Independent Trials\n",
    "3-Binary Outcomes\n",
    "\n",
    "Example-\n",
    "1-Tossing a coin\n",
    "2-Manufacturing Quality Control\n",
    "\"\"\"\n",
    "Ans4"
   ]
  },
  {
   "cell_type": "markdown",
   "id": "840c93e5",
   "metadata": {},
   "source": [
    "Q5. Generate a random sample of size 1000 from a binomial distribution with probability of success 0.4\n",
    "and plot a histogram of the results using matplotlib."
   ]
  },
  {
   "cell_type": "code",
   "execution_count": 8,
   "id": "f4a9a850",
   "metadata": {},
   "outputs": [
    {
     "data": {
      "image/png": "[encoded data removed]",
      "text/plain": [
       "<Figure size 432x288 with 1 Axes>"
      ]
     },
     "metadata": {
      "needs_background": "light"
     },
     "output_type": "display_data"
    }
   ],
   "source": [
    "import numpy as np\n",
    "import matplotlib.pyplot as plt\n",
    "\n",
    "\n",
    "\n",
    "n = 1000  \n",
    "p = 0.4   \n",
    "\n",
    "random_sample = np.random.binomial(n, p, size=1000)\n",
    "\n",
    "plt.hist(random_sample)\n",
    "\n",
    "\n",
    "plt.show()\n"
   ]
  },
  {
   "cell_type": "markdown",
   "id": "62b48be2",
   "metadata": {},
   "source": [
    "Q6. Write a Python function to calculate the cumulative distribution function of a Poisson distribution\n",
    "with given mean at a given point."
   ]
  },
  {
   "cell_type": "code",
   "execution_count": 9,
   "id": "fb2ee7fc",
   "metadata": {},
   "outputs": [
    {
     "name": "stdout",
     "output_type": "stream",
     "text": [
      "P(X <= 2) for Poisson distribution with mean 3.0: 0.42319008112684353\n"
     ]
    }
   ],
   "source": [
    "import math\n",
    "\n",
    "def poisson_cdf(mu, k):\n",
    "    \"\"\"\n",
    "    Calculate the cumulative distribution function (CDF) of a Poisson distribution\n",
    "    with mean 'mu' at point 'k'.\n",
    "    \n",
    "    Parameters:\n",
    "        mu (float): Mean of the Poisson distribution.\n",
    "        k (int): Point at which to evaluate the CDF.\n",
    "        \n",
    "    Returns:\n",
    "        float: Cumulative probability P(X <= k) for a Poisson distribution.\n",
    "    \"\"\"\n",
    "    # Calculate the CDF using the formula\n",
    "    cdf = 0.0\n",
    "    for i in range(int(math.floor(k)) + 1):\n",
    "        cdf += math.exp(-mu) * (mu**i) / math.factorial(i)\n",
    "    \n",
    "    return cdf\n",
    "\n",
    "# Example usage:\n",
    "mean = 3.0\n",
    "point = 2\n",
    "cdf_value = poisson_cdf(mean, point)\n",
    "print(f\"P(X <= {point}) for Poisson distribution with mean {mean}: {cdf_value}\")\n"
   ]
  },
  {
   "cell_type": "markdown",
   "id": "e272194e",
   "metadata": {},
   "source": [
    "Q7. How Binomial distribution different from Poisson distribution?"
   ]
  },
  {
   "cell_type": "code",
   "execution_count": 10,
   "id": "9dbbbf29",
   "metadata": {},
   "outputs": [
    {
     "data": {
      "text/plain": [
       "'POISSION DISTRIBUTION-\\nPoission distribution  describe the numberof event ouuring in a fixed time interval\\n    Example-Number of people visiting at hospital every hours\\n    \\n    BINOMIAl DISTRIBUTION-\\n    In probability theory and statistics the binomial distribution with parameters n and p is the discrete probability \\n    distribution of the number of success in a sequence of n independent experiment , each asking a yes-no question and each \\n    with its own bollean-valued outcomes:success(p) or failure q=1-p\\n    \\n    The experiment outcomes is binary'"
      ]
     },
     "execution_count": 10,
     "metadata": {},
     "output_type": "execute_result"
    }
   ],
   "source": [
    "Ans7=\"\"\"POISSION DISTRIBUTION-\n",
    "Poission distribution  describe the numberof event ouuring in a fixed time interval\n",
    "    Example-Number of people visiting at hospital every hours\n",
    "    \n",
    "    BINOMIAl DISTRIBUTION-\n",
    "    In probability theory and statistics the binomial distribution with parameters n and p is the discrete probability \n",
    "    distribution of the number of success in a sequence of n independent experiment , each asking a yes-no question and each \n",
    "    with its own bollean-valued outcomes:success(p) or failure q=1-p\n",
    "    \n",
    "    The experiment outcomes is binary\"\"\"\n",
    "Ans7"
   ]
  },
  {
   "cell_type": "markdown",
   "id": "37b1d45a",
   "metadata": {},
   "source": [
    "Q8. Generate a random sample of size 1000 from a Poisson distribution with mean 5 and calculate the\n",
    "sample mean and variance.\n",
    "\n"
   ]
  },
  {
   "cell_type": "code",
   "execution_count": 13,
   "id": "82237101",
   "metadata": {},
   "outputs": [],
   "source": [
    "import numpy as np\n",
    "n=1000\n",
    "m=5\n",
    "random_size=np.random.rand(n,m)\n"
   ]
  },
  {
   "cell_type": "code",
   "execution_count": 14,
   "id": "7c5a7e97",
   "metadata": {},
   "outputs": [
    {
     "data": {
      "text/plain": [
       "0.49756911359377565"
      ]
     },
     "execution_count": 14,
     "metadata": {},
     "output_type": "execute_result"
    }
   ],
   "source": [
    "random_size.mean()"
   ]
  },
  {
   "cell_type": "code",
   "execution_count": 15,
   "id": "3058e042",
   "metadata": {},
   "outputs": [
    {
     "data": {
      "text/plain": [
       "0.0837573869768514"
      ]
     },
     "execution_count": 15,
     "metadata": {},
     "output_type": "execute_result"
    }
   ],
   "source": [
    "random_size.var()"
   ]
  },
  {
   "cell_type": "markdown",
   "id": "ab1436ae",
   "metadata": {},
   "source": [
    "Q9. How mean and variance are related in Binomial distribution and Poisson distribution?"
   ]
  },
  {
   "cell_type": "code",
   "execution_count": 16,
   "id": "bad7221e",
   "metadata": {},
   "outputs": [
    {
     "data": {
      "text/plain": [
       "'Binomial Distribution:\\n\\nMean: E(x)=np\\nvariance:var(x)=npq or np(1-p)\\n    \\npoisson Distribution:\\nMean:E(x)=λ\\nVariance:var(x)=λ\\n    \\n    \\nRelationship:\\n    The variance in the Binomial distribution depends on both the number of trials \\nn and the probability of success per trial \\np, whereas the variance in the Poisson distribution is solely determined by its mean rate \\nλ.'"
      ]
     },
     "execution_count": 16,
     "metadata": {},
     "output_type": "execute_result"
    }
   ],
   "source": [
    "Ans9=\"\"\"Binomial Distribution:\n",
    "\n",
    "Mean: E(x)=np\n",
    "variance:var(x)=npq or np(1-p)\n",
    "    \n",
    "poisson Distribution:\n",
    "Mean:E(x)=λ\n",
    "Variance:var(x)=λ\n",
    "    \n",
    "    \n",
    "Relationship:\n",
    "    The variance in the Binomial distribution depends on both the number of trials \n",
    "n and the probability of success per trial \n",
    "p, whereas the variance in the Poisson distribution is solely determined by its mean rate \n",
    "λ.\"\"\"\n",
    "Ans9"
   ]
  },
  {
   "cell_type": "markdown",
   "id": "09a0f0c2",
   "metadata": {},
   "source": [
    "Q10. In normal distribution with respect to mean position, where does the least frequent data appear?"
   ]
  },
  {
   "cell_type": "code",
   "execution_count": 17,
   "id": "ac8b5df0",
   "metadata": {},
   "outputs": [
    {
     "data": {
      "text/plain": [
       "'in a normal distribution, the least frequent data points appear at the extreme ends (tails) of the distribution,\\nfarthest away from the mean (μ). The probability density decreases exponentially as you move away from the mean towards the \\ntails, resulting in fewer data points occurring in these regions compared to around the mean'"
      ]
     },
     "execution_count": 17,
     "metadata": {},
     "output_type": "execute_result"
    }
   ],
   "source": [
    "Ans10=\"\"\"in a normal distribution, the least frequent data points appear at the extreme ends (tails) of the distribution,\n",
    "farthest away from the mean (μ). The probability density decreases exponentially as you move away from the mean towards the \n",
    "tails, resulting in fewer data points occurring in these regions compared to around the mean\"\"\"\n",
    "Ans10"
   ]
  },
  {
   "cell_type": "code",
   "execution_count": null,
   "id": "b29dd16d",
   "metadata": {},
   "outputs": [],
   "source": []
  }
 ],
 "metadata": {
  "kernelspec": {
   "display_name": "Python 3 (ipykernel)",
   "language": "python",
   "name": "python3"
  },
  "language_info": {
   "codemirror_mode": {
    "name": "ipython",
    "version": 3
   },
   "file_extension": ".py",
   "mimetype": "text/x-python",
   "name": "python",
   "nbconvert_exporter": "python",
   "pygments_lexer": "ipython3",
   "version": "3.9.12"
  }
 },
 "nbformat": 4,
 "nbformat_minor": 5
}
